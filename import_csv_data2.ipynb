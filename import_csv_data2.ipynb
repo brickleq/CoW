{
 "nbformat": 4,
 "nbformat_minor": 2,
 "metadata": {
  "language_info": {
   "name": "python",
   "codemirror_mode": {
    "name": "ipython",
    "version": 3
   },
   "version": "3.7.4-final"
  },
  "orig_nbformat": 2,
  "file_extension": ".py",
  "mimetype": "text/x-python",
  "name": "python",
  "npconvert_exporter": "python",
  "pygments_lexer": "ipython3",
  "version": 3,
  "kernelspec": {
   "name": "python37464bitbaseconda00669302665641d98326fd36f4528694",
   "display_name": "Python 3.7.4 64-bit ('base': conda)"
  }
 },
 "cells": [
  {
   "cell_type": "code",
   "execution_count": 3,
   "metadata": {},
   "outputs": [
    {
     "output_type": "execute_result",
     "data": {
      "text/plain": "  ioname                orgname  year  afghanistan  albania  algeria  andorra  \\\n0  ACPEU  ACP/EU Joint Assembly  1984         -9.0     -9.0     -9.0     -9.0   \n1  ACPEU  ACP/EU Joint Assembly  1985         -9.0     -9.0     -9.0     -9.0   \n2  ACPEU  ACP/EU Joint Assembly  1986          0.0      0.0      0.0      NaN   \n3  ACPEU  ACP/EU Joint Assembly  1987          0.0      0.0      0.0      NaN   \n4  ACPEU  ACP/EU Joint Assembly  1988          0.0      0.0      0.0      NaN   \n\n   angola  antiguabarbuda  argentina  ...            longorgname  ionum  \\\n0    -9.0            -9.0       -9.0  ...  ACP-EU Joint Assembly     10   \n1    -9.0            -9.0       -9.0  ...  ACP-EU Joint Assembly     10   \n2     0.0             1.0        0.0  ...  ACP-EU Joint Assembly     10   \n3     0.0             1.0        0.0  ...  ACP-EU Joint Assembly     10   \n4     0.0             1.0        0.0  ...  ACP-EU Joint Assembly     10   \n\n   igocode  version        accuracyofpre1965membershipdates  sourcesandnotes  \\\n0      NaN      2.1  Not applicable - created 1965 or later                    \n1      NaN      2.1  Not applicable - created 1965 or later                    \n2      NaN      2.1  Not applicable - created 1965 or later                    \n3      NaN      2.1  Not applicable - created 1965 or later                    \n4      NaN      2.1  Not applicable - created 1965 or later                    \n\n   imputed  political  social  economic  \n0      0.0        1.0     0.0       0.0  \n1      0.0        1.0     0.0       0.0  \n2      0.0        1.0     0.0       0.0  \n3      0.0        1.0     0.0       0.0  \n4      0.0        1.0     0.0       0.0  \n\n[5 rows x 235 columns]",
      "text/html": "<div>\n<style scoped>\n    .dataframe tbody tr th:only-of-type {\n        vertical-align: middle;\n    }\n\n    .dataframe tbody tr th {\n        vertical-align: top;\n    }\n\n    .dataframe thead th {\n        text-align: right;\n    }\n</style>\n<table border=\"1\" class=\"dataframe\">\n  <thead>\n    <tr style=\"text-align: right;\">\n      <th></th>\n      <th>ioname</th>\n      <th>orgname</th>\n      <th>year</th>\n      <th>afghanistan</th>\n      <th>albania</th>\n      <th>algeria</th>\n      <th>andorra</th>\n      <th>angola</th>\n      <th>antiguabarbuda</th>\n      <th>argentina</th>\n      <th>...</th>\n      <th>longorgname</th>\n      <th>ionum</th>\n      <th>igocode</th>\n      <th>version</th>\n      <th>accuracyofpre1965membershipdates</th>\n      <th>sourcesandnotes</th>\n      <th>imputed</th>\n      <th>political</th>\n      <th>social</th>\n      <th>economic</th>\n    </tr>\n  </thead>\n  <tbody>\n    <tr>\n      <th>0</th>\n      <td>ACPEU</td>\n      <td>ACP/EU Joint Assembly</td>\n      <td>1984</td>\n      <td>-9.0</td>\n      <td>-9.0</td>\n      <td>-9.0</td>\n      <td>-9.0</td>\n      <td>-9.0</td>\n      <td>-9.0</td>\n      <td>-9.0</td>\n      <td>...</td>\n      <td>ACP-EU Joint Assembly</td>\n      <td>10</td>\n      <td>NaN</td>\n      <td>2.1</td>\n      <td>Not applicable - created 1965 or later</td>\n      <td></td>\n      <td>0.0</td>\n      <td>1.0</td>\n      <td>0.0</td>\n      <td>0.0</td>\n    </tr>\n    <tr>\n      <th>1</th>\n      <td>ACPEU</td>\n      <td>ACP/EU Joint Assembly</td>\n      <td>1985</td>\n      <td>-9.0</td>\n      <td>-9.0</td>\n      <td>-9.0</td>\n      <td>-9.0</td>\n      <td>-9.0</td>\n      <td>-9.0</td>\n      <td>-9.0</td>\n      <td>...</td>\n      <td>ACP-EU Joint Assembly</td>\n      <td>10</td>\n      <td>NaN</td>\n      <td>2.1</td>\n      <td>Not applicable - created 1965 or later</td>\n      <td></td>\n      <td>0.0</td>\n      <td>1.0</td>\n      <td>0.0</td>\n      <td>0.0</td>\n    </tr>\n    <tr>\n      <th>2</th>\n      <td>ACPEU</td>\n      <td>ACP/EU Joint Assembly</td>\n      <td>1986</td>\n      <td>0.0</td>\n      <td>0.0</td>\n      <td>0.0</td>\n      <td>NaN</td>\n      <td>0.0</td>\n      <td>1.0</td>\n      <td>0.0</td>\n      <td>...</td>\n      <td>ACP-EU Joint Assembly</td>\n      <td>10</td>\n      <td>NaN</td>\n      <td>2.1</td>\n      <td>Not applicable - created 1965 or later</td>\n      <td></td>\n      <td>0.0</td>\n      <td>1.0</td>\n      <td>0.0</td>\n      <td>0.0</td>\n    </tr>\n    <tr>\n      <th>3</th>\n      <td>ACPEU</td>\n      <td>ACP/EU Joint Assembly</td>\n      <td>1987</td>\n      <td>0.0</td>\n      <td>0.0</td>\n      <td>0.0</td>\n      <td>NaN</td>\n      <td>0.0</td>\n      <td>1.0</td>\n      <td>0.0</td>\n      <td>...</td>\n      <td>ACP-EU Joint Assembly</td>\n      <td>10</td>\n      <td>NaN</td>\n      <td>2.1</td>\n      <td>Not applicable - created 1965 or later</td>\n      <td></td>\n      <td>0.0</td>\n      <td>1.0</td>\n      <td>0.0</td>\n      <td>0.0</td>\n    </tr>\n    <tr>\n      <th>4</th>\n      <td>ACPEU</td>\n      <td>ACP/EU Joint Assembly</td>\n      <td>1988</td>\n      <td>0.0</td>\n      <td>0.0</td>\n      <td>0.0</td>\n      <td>NaN</td>\n      <td>0.0</td>\n      <td>1.0</td>\n      <td>0.0</td>\n      <td>...</td>\n      <td>ACP-EU Joint Assembly</td>\n      <td>10</td>\n      <td>NaN</td>\n      <td>2.1</td>\n      <td>Not applicable - created 1965 or later</td>\n      <td></td>\n      <td>0.0</td>\n      <td>1.0</td>\n      <td>0.0</td>\n      <td>0.0</td>\n    </tr>\n  </tbody>\n</table>\n<p>5 rows × 235 columns</p>\n</div>"
     },
     "metadata": {},
     "execution_count": 3
    }
   ],
   "source": [
    "import pandas as pd\n",
    "\n",
    "df = pd.read_stata('Resources/IGO_stata/igo_year_format_3.dta')\n",
    "df.head()"
   ]
  },
  {
   "cell_type": "code",
   "execution_count": 5,
   "metadata": {},
   "outputs": [],
   "source": [
    "df.fillna(value='', inplace=True)"
   ]
  },
  {
   "cell_type": "code",
   "execution_count": 6,
   "metadata": {},
   "outputs": [
    {
     "output_type": "execute_result",
     "data": {
      "text/plain": "  ioname                orgname  year afghanistan albania algeria andorra  \\\n0  ACPEU  ACP/EU Joint Assembly  1984          -9      -9      -9      -9   \n1  ACPEU  ACP/EU Joint Assembly  1985          -9      -9      -9      -9   \n2  ACPEU  ACP/EU Joint Assembly  1986           0       0       0           \n3  ACPEU  ACP/EU Joint Assembly  1987           0       0       0           \n4  ACPEU  ACP/EU Joint Assembly  1988           0       0       0           \n\n  angola antiguabarbuda argentina  ...            longorgname ionum igocode  \\\n0     -9             -9        -9  ...  ACP-EU Joint Assembly    10           \n1     -9             -9        -9  ...  ACP-EU Joint Assembly    10           \n2      0              1         0  ...  ACP-EU Joint Assembly    10           \n3      0              1         0  ...  ACP-EU Joint Assembly    10           \n4      0              1         0  ...  ACP-EU Joint Assembly    10           \n\n  version        accuracyofpre1965membershipdates sourcesandnotes imputed  \\\n0     2.1  Not applicable - created 1965 or later                       0   \n1     2.1  Not applicable - created 1965 or later                       0   \n2     2.1  Not applicable - created 1965 or later                       0   \n3     2.1  Not applicable - created 1965 or later                       0   \n4     2.1  Not applicable - created 1965 or later                       0   \n\n  political social economic  \n0         1      0        0  \n1         1      0        0  \n2         1      0        0  \n3         1      0        0  \n4         1      0        0  \n\n[5 rows x 235 columns]",
      "text/html": "<div>\n<style scoped>\n    .dataframe tbody tr th:only-of-type {\n        vertical-align: middle;\n    }\n\n    .dataframe tbody tr th {\n        vertical-align: top;\n    }\n\n    .dataframe thead th {\n        text-align: right;\n    }\n</style>\n<table border=\"1\" class=\"dataframe\">\n  <thead>\n    <tr style=\"text-align: right;\">\n      <th></th>\n      <th>ioname</th>\n      <th>orgname</th>\n      <th>year</th>\n      <th>afghanistan</th>\n      <th>albania</th>\n      <th>algeria</th>\n      <th>andorra</th>\n      <th>angola</th>\n      <th>antiguabarbuda</th>\n      <th>argentina</th>\n      <th>...</th>\n      <th>longorgname</th>\n      <th>ionum</th>\n      <th>igocode</th>\n      <th>version</th>\n      <th>accuracyofpre1965membershipdates</th>\n      <th>sourcesandnotes</th>\n      <th>imputed</th>\n      <th>political</th>\n      <th>social</th>\n      <th>economic</th>\n    </tr>\n  </thead>\n  <tbody>\n    <tr>\n      <th>0</th>\n      <td>ACPEU</td>\n      <td>ACP/EU Joint Assembly</td>\n      <td>1984</td>\n      <td>-9</td>\n      <td>-9</td>\n      <td>-9</td>\n      <td>-9</td>\n      <td>-9</td>\n      <td>-9</td>\n      <td>-9</td>\n      <td>...</td>\n      <td>ACP-EU Joint Assembly</td>\n      <td>10</td>\n      <td></td>\n      <td>2.1</td>\n      <td>Not applicable - created 1965 or later</td>\n      <td></td>\n      <td>0</td>\n      <td>1</td>\n      <td>0</td>\n      <td>0</td>\n    </tr>\n    <tr>\n      <th>1</th>\n      <td>ACPEU</td>\n      <td>ACP/EU Joint Assembly</td>\n      <td>1985</td>\n      <td>-9</td>\n      <td>-9</td>\n      <td>-9</td>\n      <td>-9</td>\n      <td>-9</td>\n      <td>-9</td>\n      <td>-9</td>\n      <td>...</td>\n      <td>ACP-EU Joint Assembly</td>\n      <td>10</td>\n      <td></td>\n      <td>2.1</td>\n      <td>Not applicable - created 1965 or later</td>\n      <td></td>\n      <td>0</td>\n      <td>1</td>\n      <td>0</td>\n      <td>0</td>\n    </tr>\n    <tr>\n      <th>2</th>\n      <td>ACPEU</td>\n      <td>ACP/EU Joint Assembly</td>\n      <td>1986</td>\n      <td>0</td>\n      <td>0</td>\n      <td>0</td>\n      <td></td>\n      <td>0</td>\n      <td>1</td>\n      <td>0</td>\n      <td>...</td>\n      <td>ACP-EU Joint Assembly</td>\n      <td>10</td>\n      <td></td>\n      <td>2.1</td>\n      <td>Not applicable - created 1965 or later</td>\n      <td></td>\n      <td>0</td>\n      <td>1</td>\n      <td>0</td>\n      <td>0</td>\n    </tr>\n    <tr>\n      <th>3</th>\n      <td>ACPEU</td>\n      <td>ACP/EU Joint Assembly</td>\n      <td>1987</td>\n      <td>0</td>\n      <td>0</td>\n      <td>0</td>\n      <td></td>\n      <td>0</td>\n      <td>1</td>\n      <td>0</td>\n      <td>...</td>\n      <td>ACP-EU Joint Assembly</td>\n      <td>10</td>\n      <td></td>\n      <td>2.1</td>\n      <td>Not applicable - created 1965 or later</td>\n      <td></td>\n      <td>0</td>\n      <td>1</td>\n      <td>0</td>\n      <td>0</td>\n    </tr>\n    <tr>\n      <th>4</th>\n      <td>ACPEU</td>\n      <td>ACP/EU Joint Assembly</td>\n      <td>1988</td>\n      <td>0</td>\n      <td>0</td>\n      <td>0</td>\n      <td></td>\n      <td>0</td>\n      <td>1</td>\n      <td>0</td>\n      <td>...</td>\n      <td>ACP-EU Joint Assembly</td>\n      <td>10</td>\n      <td></td>\n      <td>2.1</td>\n      <td>Not applicable - created 1965 or later</td>\n      <td></td>\n      <td>0</td>\n      <td>1</td>\n      <td>0</td>\n      <td>0</td>\n    </tr>\n  </tbody>\n</table>\n<p>5 rows × 235 columns</p>\n</div>"
     },
     "metadata": {},
     "execution_count": 6
    }
   ],
   "source": [
    "df.head()"
   ]
  },
  {
   "cell_type": "code",
   "execution_count": 7,
   "metadata": {},
   "outputs": [],
   "source": [
    "df.to_csv('Resources/IGO_csv/igo_year_format_3_cleaned.csv')"
   ]
  },
  {
   "cell_type": "code",
   "execution_count": 9,
   "metadata": {},
   "outputs": [],
   "source": [
    "columns = df.columns"
   ]
  },
  {
   "cell_type": "code",
   "execution_count": 12,
   "metadata": {},
   "outputs": [
    {
     "output_type": "stream",
     "name": "stdout",
     "text": "ioname INT,\norgname INT,\nyear INT,\nafghanistan INT,\nalbania INT,\nalgeria INT,\nandorra INT,\nangola INT,\nantiguabarbuda INT,\nargentina INT,\narmenia INT,\naustralia INT,\naustria INT,\naustriahungary INT,\nazerbaijan INT,\nbaden INT,\nbahamas INT,\nbahrain INT,\nbangladesh INT,\nbarbados INT,\nbavariaelect INT,\nbelarus INT,\nbelgium INT,\nbelize INT,\nbenin INT,\nbhutan INT,\nbolivia INT,\nbosnia INT,\nbotswana INT,\nbrazil INT,\nbrunei INT,\nbulgaria INT,\nburkinafaso INT,\nburundi INT,\ncar INT,\ncambodia INT,\ncameroon INT,\ncanada INT,\ncapeverde INT,\nchad INT,\nchile INT,\nchina INT,\ncolombia INT,\ncomoros INT,\ncongobrazz INT,\ncostarica INT,\ncroatia INT,\ncuba INT,\ncyprus INT,\nczechrep INT,\nczechoslovakia INT,\ndenmark INT,\ndjibouti INT,\ndomrepublic INT,\ndominica INT,\negermany INT,\netimor INT,\necuador INT,\negypt INT,\nelsalvador INT,\neqguinea INT,\neritrea INT,\nestonia INT,\nethiopia INT,\nfyromacedonia INT,\nfiji INT,\nfinland INT,\nfrance INT,\ngabon INT,\ngambia INT,\ngeorgia INT,\ngermany INT,\nghana INT,\ngreece INT,\ngrenada INT,\nguatemala INT,\nguinea INT,\nguineabissau INT,\nguyana INT,\nhaiti INT,\nhanover INT,\nhesseelect INT,\nhessegrand INT,\nhonduras INT,\nhungary INT,\niceland INT,\nindia INT,\nindonesia INT,\niran INT,\niraq INT,\nireland INT,\nisrael INT,\nitaly INT,\nivorycoast INT,\njamaica INT,\njapan INT,\njordan INT,\nkazakhstan INT,\nkenya INT,\nkiribati INT,\nkorea INT,\nkosovo INT,\nkuwait INT,\nkyrgyzstan INT,\nlaos INT,\nlatvia INT,\nlebanon INT,\nlesotho INT,\nliberia INT,\nlibya INT,\nliechtenstein INT,\nlithuania INT,\nluxembourg INT,\nmadagascar INT,\nmalawi INT,\nmalaysia INT,\nmaldives INT,\nmali INT,\nmalta INT,\nmarshallis INT,\nmauritania INT,\nmauritius INT,\nmecklenburg INT,\nmexico INT,\nmicronesiafs INT,\nmodena INT,\nmoldova INT,\nmonaco INT,\nmongolia INT,\nmorocco INT,\nmontenegro INT,\nmozambique INT,\nmyanmar INT,\nnamibia INT,\nnauru INT,\nnepal INT,\nnetherlands INT,\nnewzealand INT,\nnicaragua INT,\nniger INT,\nnigeria INT,\nnokorea INT,\nnorway INT,\nnyemen INT,\noman INT,\npakistan INT,\npalau INT,\npanama INT,\npapalstates INT,\npapuanewguinea INT,\nparaguay INT,\nparma INT,\nperu INT,\nphilippines INT,\npoland INT,\nportugal INT,\nqatar INT,\nromania INT,\nrussia INT,\nrwanda INT,\nsvietnam INT,\nsyemen INT,\nsanmarino INT,\nsaotome INT,\nsaudiarabia INT,\nsaxony INT,\nsenegal INT,\nseychelles INT,\nsierraleone INT,\nsingapore INT,\nslovakia INT,\nslovenia INT,\nsoafrica INT,\nsokorea INT,\nsosudan INT,\nsolomonis INT,\nsomalia INT,\nspain INT,\nsrilanka INT,\nstkitts INT,\nstlucia INT,\nstvincent INT,\nsudan INT,\nsuriname INT,\nswaziland INT,\nsweden INT,\nswitzerland INT,\nsyria INT,\ntaiwan INT,\ntajikistan INT,\ntanzania INT,\nthailand INT,\ntogo INT,\ntonga INT,\ntrinidad INT,\ntunisia INT,\nturkey INT,\nturkmenistan INT,\ntuscany INT,\ntuvalu INT,\ntwosicilies INT,\nuae INT,\nuk INT,\nusa INT,\nuganda INT,\nukraine INT,\nuruguay INT,\nuzbekistan INT,\nvanuatu INT,\nvenezuela INT,\nvietnam INT,\nwgermany INT,\nwsamoa INT,\nwurtenburg INT,\nyemen INT,\nyugoslaviaserb INT,\nzaire INT,\nzambia INT,\nzanzibar INT,\nzimbabwe INT,\nsdate INT,\ndeaddate INT,\ndead INT,\nintegrated INT,\nreplaced INT,\nlongorgname INT,\nionum INT,\nigocode INT,\nversion INT,\naccuracyofpre1965membershipdates INT,\nsourcesandnotes INT,\nimputed INT,\npolitical INT,\nsocial INT,\neconomic INT,\n"
    }
   ],
   "source": [
    "for column in columns:\n",
    "    print(column + ' INT,')"
   ]
  },
  {
   "cell_type": "code",
   "execution_count": 1,
   "metadata": {},
   "outputs": [
    {
     "output_type": "execute_result",
     "data": {
      "text/plain": "   ccode  year state  aaaid  aacb  aalco  aaro  aata  aatpo  abeda  ...  wco  \\\n0      2  1816   usa     -1    -1     -1    -1    -1     -1     -1  ...   -1   \n1      2  1817   usa     -1    -1     -1    -1    -1     -1     -1  ...   -1   \n2      2  1818   usa     -1    -1     -1    -1    -1     -1     -1  ...   -1   \n3      2  1819   usa     -1    -1     -1    -1    -1     -1     -1  ...   -1   \n4      2  1820   usa     -1    -1     -1    -1    -1     -1     -1  ...   -1   \n\n   weu  who  wipo  wmo  wnf  wpact  wto  wtouro  wassen  \n0   -1   -1    -1   -1   -1     -1   -1      -1      -1  \n1   -1   -1    -1   -1   -1     -1   -1      -1      -1  \n2   -1   -1    -1   -1   -1     -1   -1      -1      -1  \n3   -1   -1    -1   -1   -1     -1   -1      -1      -1  \n4   -1   -1    -1   -1   -1     -1   -1      -1      -1  \n\n[5 rows x 537 columns]",
      "text/html": "<div>\n<style scoped>\n    .dataframe tbody tr th:only-of-type {\n        vertical-align: middle;\n    }\n\n    .dataframe tbody tr th {\n        vertical-align: top;\n    }\n\n    .dataframe thead th {\n        text-align: right;\n    }\n</style>\n<table border=\"1\" class=\"dataframe\">\n  <thead>\n    <tr style=\"text-align: right;\">\n      <th></th>\n      <th>ccode</th>\n      <th>year</th>\n      <th>state</th>\n      <th>aaaid</th>\n      <th>aacb</th>\n      <th>aalco</th>\n      <th>aaro</th>\n      <th>aata</th>\n      <th>aatpo</th>\n      <th>abeda</th>\n      <th>...</th>\n      <th>wco</th>\n      <th>weu</th>\n      <th>who</th>\n      <th>wipo</th>\n      <th>wmo</th>\n      <th>wnf</th>\n      <th>wpact</th>\n      <th>wto</th>\n      <th>wtouro</th>\n      <th>wassen</th>\n    </tr>\n  </thead>\n  <tbody>\n    <tr>\n      <th>0</th>\n      <td>2</td>\n      <td>1816</td>\n      <td>usa</td>\n      <td>-1</td>\n      <td>-1</td>\n      <td>-1</td>\n      <td>-1</td>\n      <td>-1</td>\n      <td>-1</td>\n      <td>-1</td>\n      <td>...</td>\n      <td>-1</td>\n      <td>-1</td>\n      <td>-1</td>\n      <td>-1</td>\n      <td>-1</td>\n      <td>-1</td>\n      <td>-1</td>\n      <td>-1</td>\n      <td>-1</td>\n      <td>-1</td>\n    </tr>\n    <tr>\n      <th>1</th>\n      <td>2</td>\n      <td>1817</td>\n      <td>usa</td>\n      <td>-1</td>\n      <td>-1</td>\n      <td>-1</td>\n      <td>-1</td>\n      <td>-1</td>\n      <td>-1</td>\n      <td>-1</td>\n      <td>...</td>\n      <td>-1</td>\n      <td>-1</td>\n      <td>-1</td>\n      <td>-1</td>\n      <td>-1</td>\n      <td>-1</td>\n      <td>-1</td>\n      <td>-1</td>\n      <td>-1</td>\n      <td>-1</td>\n    </tr>\n    <tr>\n      <th>2</th>\n      <td>2</td>\n      <td>1818</td>\n      <td>usa</td>\n      <td>-1</td>\n      <td>-1</td>\n      <td>-1</td>\n      <td>-1</td>\n      <td>-1</td>\n      <td>-1</td>\n      <td>-1</td>\n      <td>...</td>\n      <td>-1</td>\n      <td>-1</td>\n      <td>-1</td>\n      <td>-1</td>\n      <td>-1</td>\n      <td>-1</td>\n      <td>-1</td>\n      <td>-1</td>\n      <td>-1</td>\n      <td>-1</td>\n    </tr>\n    <tr>\n      <th>3</th>\n      <td>2</td>\n      <td>1819</td>\n      <td>usa</td>\n      <td>-1</td>\n      <td>-1</td>\n      <td>-1</td>\n      <td>-1</td>\n      <td>-1</td>\n      <td>-1</td>\n      <td>-1</td>\n      <td>...</td>\n      <td>-1</td>\n      <td>-1</td>\n      <td>-1</td>\n      <td>-1</td>\n      <td>-1</td>\n      <td>-1</td>\n      <td>-1</td>\n      <td>-1</td>\n      <td>-1</td>\n      <td>-1</td>\n    </tr>\n    <tr>\n      <th>4</th>\n      <td>2</td>\n      <td>1820</td>\n      <td>usa</td>\n      <td>-1</td>\n      <td>-1</td>\n      <td>-1</td>\n      <td>-1</td>\n      <td>-1</td>\n      <td>-1</td>\n      <td>-1</td>\n      <td>...</td>\n      <td>-1</td>\n      <td>-1</td>\n      <td>-1</td>\n      <td>-1</td>\n      <td>-1</td>\n      <td>-1</td>\n      <td>-1</td>\n      <td>-1</td>\n      <td>-1</td>\n      <td>-1</td>\n    </tr>\n  </tbody>\n</table>\n<p>5 rows × 537 columns</p>\n</div>"
     },
     "metadata": {},
     "execution_count": 1
    }
   ],
   "source": [
    "import pandas as pd\n",
    "\n",
    "df = pd.read_stata('Resources/IGO_stata/state_year_format3.dta')\n",
    "df.head()"
   ]
  },
  {
   "cell_type": "code",
   "execution_count": 2,
   "metadata": {},
   "outputs": [],
   "source": [
    "columns = df.columns"
   ]
  },
  {
   "cell_type": "code",
   "execution_count": 3,
   "metadata": {},
   "outputs": [
    {
     "output_type": "stream",
     "name": "stdout",
     "text": "ccode INT,\nyear INT,\nstate INT,\naaaid INT,\naacb INT,\naalco INT,\naaro INT,\naata INT,\naatpo INT,\nabeda INT,\nabepseac INT,\nacc INT,\nacct INT,\nacdt INT,\naci INT,\nacml INT,\nacp INT,\nacpeu INT,\nacs INT,\nacso INT,\nacssrb INT,\nacu INT,\nacwl INT,\nafesd INT,\nafeximb INT,\nafgec INT,\nafpu INT,\nafrand INT,\nafristat INT,\nafspc INT,\nafte INT,\nagc INT,\nagpundo INT,\naic INT,\naidc INT,\naido INT,\naioec INT,\naipo INT,\naitic INT,\nalo INT,\nalsf INT,\namco INT,\namcow INT,\namf INT,\namipo INT,\namptu INT,\namsc INT,\namu INT,\nanzus INT,\naoad INT,\naocrs INT,\naomr INT,\naopu INT,\nap INT,\napcc INT,\napec INT,\napfic INT,\napibd INT,\napo INT,\nappa INT,\napt INT,\naptu INT,\narc INT,\narcal INT,\naripo INT,\narpu INT,\nasatp INT,\nasblac INT,\nascbc INT,\nascrubber INT,\nasean INT,\nasecna INT,\nasef INT,\naspac INT,\nato INT,\natpc INT,\nau INT,\navrdc INT,\nafdb INT,\nafropda INT,\nafricarice INT,\nafricare INT,\namcc INT,\nandean INT,\naralsea INT,\narticc INT,\nasdb INT,\nbaltbat INT,\nbc INT,\nbcsc INT,\nbenelux INT,\nbiisef INT,\nbionet INT,\nbipm INT,\nbis INT,\nbndp INT,\nbobp INT,\nbonn INT,\nborgip INT,\nbs INT,\nbsec INT,\ncaad INT,\ncaarc INT,\ncab INT,\ncabi INT,\ncacb INT,\ncaci INT,\ncaec INT,\ncaecc INT,\ncaipa INT,\ncames INT,\ncamrsd INT,\ncamsf INT,\ncaricom INT,\ncarifta INT,\ncarii INT,\ncatc INT,\ncbfp INT,\ncbi INT,\ncbss INT,\nccnr INT,\nccom INT,\nccpa INT,\nccomm INT,\ncdb INT,\nceao INT,\ncec INT,\nceepn INT,\ncefta INT,\ncei INT,\ncelc INT,\ncemac INT,\ncento INT,\ncepgl INT,\ncern INT,\ncfatf INT,\ncfc INT,\nchstea INT,\ncica INT,\ncifc INT,\ncilss INT,\ncima INT,\ncis INT,\ncmaec INT,\ncmaoc INT,\ncmea INT,\ncmhasg INT,\ncoe INT,\ncolombo INT,\ncomesa INT,\nconfejes INT,\ncoptac INT,\ncosave INT,\ncpab INT,\ncpsc INT,\ncpu INT,\ncslf INT,\ncsto INT,\nctcaf INT,\ncto INT,\ncwgc INT,\ncxc INT,\ncfrn INT,\ncomab INT,\ncomsec INT,\ncorg INT,\nd8 INT,\ndbgls INT,\ndlcoea INT,\ndanube INT,\neac INT,\neacm INT,\neacso INT,\neadb INT,\neaec INT,\neapc INT,\neapo INT,\nebrd INT,\necb INT,\necca INT,\neccas INT,\neccb INT,\neccd INT,\neccm INT,\neccpif INT,\neco INT,\necowas INT,\necpta INT,\necsc INT,\neec INT,\nefcc INT,\nefilwc INT,\nefta INT,\neib INT,\neip INT,\neipa INT,\neldo INT,\nemb INT,\nembc INT,\nembl INT,\nemi INT,\nemppo INT,\nepa INT,\nepfsc INT,\nepo INT,\nepu INT,\neria INT,\nesa INT,\neso INT,\nesro INT,\netf INT,\neu INT,\neufmd INT,\neuramet INT,\neuratom INT,\neurocontrol INT,\neurofima INT,\neuromet INT,\nentente INT,\nfao INT,\nfdiplac INT,\nfec INT,\ng15 INT,\ng24 INT,\ng3 INT,\ngatt INT,\ngbact INT,\ngcc INT,\ngcrsnc INT,\ngef INT,\ngeo INT,\nghsi INT,\nglacsec INT,\ngoic INT,\nhcpil INT,\niabe INT,\niabath INT,\niacb INT,\niaci INT,\niacs INT,\niacss INT,\niacw INT,\niadb INT,\niadefb INT,\niaea INT,\niafc INT,\niahc INT,\niaias INT,\niaic INT,\niaigc INT,\niaii INT,\nialong INT,\niamlo INT,\niaphy INT,\niara INT,\niarhc INT,\niaradio INT,\niaruhr INT,\nias INT,\niasaj INT,\niatb INT,\niatsj INT,\niattc INT,\niba INT,\nibcs INT,\nibe INT,\nibec INT,\nibi INT,\nibier INT,\nibpmp INT,\nibrd INT,\nicac INT,\nicai INT,\nicao INT,\nicamo INT,\nicc INT,\niccec INT,\niccilmb INT,\nicco INT,\niccrom INT,\niccs INT,\niccslt INT,\nicdr INT,\nices INT,\nicfam INT,\nichrb INT,\nicmmp INT,\nicnc INT,\nicnwaf INT,\nicprp INT,\nicptu INT,\nicri INT,\nicrpbc INT,\nicse INT,\nicseaf INT,\nicsg INT,\nictm INT,\nicfo INT,\nichemo INT,\nicivdo INT,\nicomo INT,\nidc INT,\niea INT,\niec INT,\nies INT,\niexb INT,\nifad INT,\nifc INT,\nifca INT,\nigad INT,\nigc INT,\nigcc INT,\niho INT,\niia INT,\niicom INT,\niie INT,\niif INT,\niifeo INT,\niiwee INT,\nijo INT,\nilo INT,\nilzsg INT,\nimbslav INT,\nimc INT,\nimf INT,\nimi INT,\nimo INT,\nimso INT,\nincap INT,\ninfofish INT,\ninfsmk INT,\ninpfc INT,\ninro INT,\ninsg INT,\nintelsat INT,\ninterpol INT,\nioathre INT,\niocom INT,\nioez INT,\niolm INT,\niomig INT,\niooc INT,\niopcf INT,\nioph INT,\niorarc INT,\niocc INT,\nipc INT,\nipi INT,\nipedi INT,\nipentc INT,\niphyl INT,\niprizec INT,\nirena INT,\nirlcs INT,\niro INT,\nirsg INT,\niru INT,\nisa INT,\nisb INT,\nisdb INT,\nishrest INT,\nisrbc INT,\nisupt INT,\nisuc INT,\nitc INT,\nitcc INT,\nitcle INT,\nitpa INT,\nitro INT,\nitto INT,\nitu INT,\nitvrc INT,\niuic INT,\niupct INT,\niupip INT,\niuplaw INT,\niupnvp INT,\niupr INT,\nivwo INT,\niwsg INT,\niwhale INT,\niocean INT,\njalaao INT,\njinr INT,\njnolcrh INT,\nlacac INT,\nlacp INT,\nlaeo INT,\nlafdo INT,\nlafta INT,\nlaia INT,\nlaiec INT,\nlatin INT,\nlcbc INT,\nlgida INT,\nloas INT,\nlon INT,\nmaocn INT,\nmarri INT,\nmcpttc INT,\nmcwcasm INT,\nmfo INT,\nmiga INT,\nmru INT,\nmwn INT,\nmercosur INT,\nmontreal INT,\nnacap INT,\nnafo INT,\nnafta INT,\nnam INT,\nnappo INT,\nnasco INT,\nnato INT,\nncm INT,\nncrr INT,\nnctr INT,\nndf INT,\nneafc INT,\nnerc INT,\nnib INT,\nnpafc INT,\nnpfsc INT,\nnpi INT,\nnrc INT,\nntsc INT,\nnvc INT,\nnwhf INT,\nnordc INT,\noapec INT,\noas INT,\noau INT,\nocam INT,\nocas INT,\noccedca INT,\nocr INT,\noecd INT,\noecs INT,\noeec INT,\noic INT,\noiv INT,\nomdkr INT,\nomvg INT,\nopanal INT,\nopec INT,\nosce INT,\noslo INT,\nospar INT,\notif INT,\npahc INT,\npaho INT,\npaigh INT,\npap INT,\npapu INT,\npc INT,\npca INT,\npcb INT,\npcsp INT,\nped INT,\npiarc INT,\npibac INT,\npices INT,\npics INT,\npif INT,\npipd INT,\npmaesa INT,\npsnarco INT,\nptasea INT,\npuasp INT,\nrascom INT,\nrcaela INT,\nrcc INT,\nrcfc INT,\nrecsa INT,\nrimmo INT,\nrioppah INT,\nriogroup INT,\nradiou INT,\nrepcom INT,\nsaafa INT,\nsaarc INT,\nsacep INT,\nsacu INT,\nsadc INT,\nsadcc INT,\nsami INT,\nsartc INT,\nsca INT,\nscaf INT,\nsch INT,\nschengen INT,\nsco INT,\nseameo INT,\nseato INT,\nsegib INT,\nsela INT,\nsica INT,\nsieca INT,\nsittdec INT,\nspc INT,\nsrdo INT,\nswapu INT,\nswpd INT,\nsugu INT,\ntcrmg INT,\nturksoy INT,\nuasc INT,\nubec INT,\nudeac INT,\nuemoa INT,\nuiucv INT,\nukdwd INT,\num INT,\numac INT,\numoa INT,\nun INT,\nunesco INT,\nunido INT,\nunidroit INT,\nupu INT,\nusp INT,\nvaldivia INT,\nvasab INT,\nwaec INT,\nwahc INT,\nwaho INT,\nwcdc INT,\nwco INT,\nweu INT,\nwho INT,\nwipo INT,\nwmo INT,\nwnf INT,\nwpact INT,\nwto INT,\nwtouro INT,\nwassen INT,\n"
    }
   ],
   "source": [
    "for column in columns:\n",
    "    print(f'{column} INT,')"
   ]
  },
  {
   "cell_type": "code",
   "execution_count": null,
   "metadata": {},
   "outputs": [],
   "source": []
  }
 ]
}